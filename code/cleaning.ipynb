{
 "cells": [
  {
   "cell_type": "code",
   "execution_count": 1,
   "id": "9af62f59",
   "metadata": {},
   "outputs": [
    {
     "data": {
      "text/html": [
       "<div>\n",
       "<style scoped>\n",
       "    .dataframe tbody tr th:only-of-type {\n",
       "        vertical-align: middle;\n",
       "    }\n",
       "\n",
       "    .dataframe tbody tr th {\n",
       "        vertical-align: top;\n",
       "    }\n",
       "\n",
       "    .dataframe thead th {\n",
       "        text-align: right;\n",
       "    }\n",
       "</style>\n",
       "<table border=\"1\" class=\"dataframe\">\n",
       "  <thead>\n",
       "    <tr style=\"text-align: right;\">\n",
       "      <th></th>\n",
       "      <th>Titre</th>\n",
       "      <th>Entreprise</th>\n",
       "      <th>Localisation</th>\n",
       "      <th>Lien</th>\n",
       "      <th>Compétences</th>\n",
       "      <th>Date</th>\n",
       "      <th>mapped_role</th>\n",
       "    </tr>\n",
       "  </thead>\n",
       "  <tbody>\n",
       "    <tr>\n",
       "      <th>0</th>\n",
       "      <td>Junior Data Engineer - Casablanca</td>\n",
       "      <td>Artefact</td>\n",
       "      <td>Casablanca</td>\n",
       "      <td>https://ma.linkedin.com/jobs/view/junior-data-...</td>\n",
       "      <td>agile, airflow, aws, azure, beam, bigquery, ci...</td>\n",
       "      <td>2025-07-31</td>\n",
       "      <td>data engineer</td>\n",
       "    </tr>\n",
       "    <tr>\n",
       "      <th>1</th>\n",
       "      <td>Data Engineer (H/F)</td>\n",
       "      <td>Smile</td>\n",
       "      <td>Casablanca</td>\n",
       "      <td>https://ma.linkedin.com/jobs/view/data-enginee...</td>\n",
       "      <td>airflow, python, snowflake, sql</td>\n",
       "      <td>2025-07-31</td>\n",
       "      <td>data engineer</td>\n",
       "    </tr>\n",
       "    <tr>\n",
       "      <th>2</th>\n",
       "      <td>Data Engineer (ETL for Power BI)</td>\n",
       "      <td>DXC Technology Morocco</td>\n",
       "      <td>Rabat</td>\n",
       "      <td>https://ma.linkedin.com/jobs/view/data-enginee...</td>\n",
       "      <td>etl, excel, power bi, sql</td>\n",
       "      <td>2025-08-12</td>\n",
       "      <td>data engineer</td>\n",
       "    </tr>\n",
       "    <tr>\n",
       "      <th>3</th>\n",
       "      <td>Data Engineer</td>\n",
       "      <td>Artefact</td>\n",
       "      <td>Casablanca</td>\n",
       "      <td>https://ma.linkedin.com/jobs/view/data-enginee...</td>\n",
       "      <td>agile, airflow, aws, azure, beam, bigquery, ci...</td>\n",
       "      <td>2025-08-01</td>\n",
       "      <td>data engineer</td>\n",
       "    </tr>\n",
       "    <tr>\n",
       "      <th>4</th>\n",
       "      <td>Data Engineer</td>\n",
       "      <td>UM6P - University Mohammed VI Polytechnic</td>\n",
       "      <td>Rabat</td>\n",
       "      <td>https://ma.linkedin.com/jobs/view/data-enginee...</td>\n",
       "      <td>aws, azure, etl, google cloud, java, kafka, po...</td>\n",
       "      <td>2025-08-11</td>\n",
       "      <td>data engineer</td>\n",
       "    </tr>\n",
       "  </tbody>\n",
       "</table>\n",
       "</div>"
      ],
      "text/plain": [
       "                               Titre  \\\n",
       "0  Junior Data Engineer - Casablanca   \n",
       "1                Data Engineer (H/F)   \n",
       "2   Data Engineer (ETL for Power BI)   \n",
       "3                      Data Engineer   \n",
       "4                      Data Engineer   \n",
       "\n",
       "                                  Entreprise Localisation  \\\n",
       "0                                   Artefact   Casablanca   \n",
       "1                                      Smile   Casablanca   \n",
       "2                     DXC Technology Morocco        Rabat   \n",
       "3                                   Artefact   Casablanca   \n",
       "4  UM6P - University Mohammed VI Polytechnic        Rabat   \n",
       "\n",
       "                                                Lien  \\\n",
       "0  https://ma.linkedin.com/jobs/view/junior-data-...   \n",
       "1  https://ma.linkedin.com/jobs/view/data-enginee...   \n",
       "2  https://ma.linkedin.com/jobs/view/data-enginee...   \n",
       "3  https://ma.linkedin.com/jobs/view/data-enginee...   \n",
       "4  https://ma.linkedin.com/jobs/view/data-enginee...   \n",
       "\n",
       "                                         Compétences        Date  \\\n",
       "0  agile, airflow, aws, azure, beam, bigquery, ci...  2025-07-31   \n",
       "1                    airflow, python, snowflake, sql  2025-07-31   \n",
       "2                          etl, excel, power bi, sql  2025-08-12   \n",
       "3  agile, airflow, aws, azure, beam, bigquery, ci...  2025-08-01   \n",
       "4  aws, azure, etl, google cloud, java, kafka, po...  2025-08-11   \n",
       "\n",
       "     mapped_role  \n",
       "0  data engineer  \n",
       "1  data engineer  \n",
       "2  data engineer  \n",
       "3  data engineer  \n",
       "4  data engineer  "
      ]
     },
     "execution_count": 1,
     "metadata": {},
     "output_type": "execute_result"
    }
   ],
   "source": [
    "from functions import cleaner\n",
    "import pandas as pd\n",
    "import numpy as np\n",
    "\n",
    "df = pd.read_csv(\"../offres_linkedin.csv\")\n",
    "df = cleaner(df)\n",
    "df.head()"
   ]
  },
  {
   "cell_type": "code",
   "execution_count": 2,
   "id": "b22f59ed",
   "metadata": {},
   "outputs": [
    {
     "data": {
      "text/plain": [
       "(167, 7)"
      ]
     },
     "execution_count": 2,
     "metadata": {},
     "output_type": "execute_result"
    }
   ],
   "source": [
    "df.shape"
   ]
  },
  {
   "cell_type": "code",
   "execution_count": 3,
   "id": "eab442e7",
   "metadata": {},
   "outputs": [
    {
     "data": {
      "text/plain": [
       "mapped_role\n",
       "web developer        48\n",
       "data engineer        39\n",
       "data analyst         34\n",
       "software engineer    29\n",
       "data scientist       17\n",
       "Name: count, dtype: int64"
      ]
     },
     "execution_count": 3,
     "metadata": {},
     "output_type": "execute_result"
    }
   ],
   "source": [
    "df['mapped_role'].value_counts()"
   ]
  }
 ],
 "metadata": {
  "kernelspec": {
   "display_name": "base",
   "language": "python",
   "name": "python3"
  },
  "language_info": {
   "codemirror_mode": {
    "name": "ipython",
    "version": 3
   },
   "file_extension": ".py",
   "mimetype": "text/x-python",
   "name": "python",
   "nbconvert_exporter": "python",
   "pygments_lexer": "ipython3",
   "version": "3.11.7"
  }
 },
 "nbformat": 4,
 "nbformat_minor": 5
}
