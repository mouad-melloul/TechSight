{
 "cells": [
  {
   "cell_type": "markdown",
   "id": "8d2797f7",
   "metadata": {},
   "source": [
    "## Linkedin.com"
   ]
  },
  {
   "cell_type": "code",
   "execution_count": 1,
   "id": "b8850a99",
   "metadata": {},
   "outputs": [
    {
     "data": {
      "text/html": [
       "<div>\n",
       "<style scoped>\n",
       "    .dataframe tbody tr th:only-of-type {\n",
       "        vertical-align: middle;\n",
       "    }\n",
       "\n",
       "    .dataframe tbody tr th {\n",
       "        vertical-align: top;\n",
       "    }\n",
       "\n",
       "    .dataframe thead th {\n",
       "        text-align: right;\n",
       "    }\n",
       "</style>\n",
       "<table border=\"1\" class=\"dataframe\">\n",
       "  <thead>\n",
       "    <tr style=\"text-align: right;\">\n",
       "      <th></th>\n",
       "      <th>Titre</th>\n",
       "      <th>Entreprise</th>\n",
       "      <th>Localisation</th>\n",
       "      <th>Lien</th>\n",
       "      <th>Compétences</th>\n",
       "      <th>mapped_role</th>\n",
       "    </tr>\n",
       "  </thead>\n",
       "  <tbody>\n",
       "    <tr>\n",
       "      <th>0</th>\n",
       "      <td>Junior Data Engineer - Casablanca</td>\n",
       "      <td>Artefact</td>\n",
       "      <td>Casablanca</td>\n",
       "      <td>https://ma.linkedin.com/jobs/view/junior-data-...</td>\n",
       "      <td>agile, airflow, aws, azure, beam, bigquery, ci...</td>\n",
       "      <td>data engineer</td>\n",
       "    </tr>\n",
       "    <tr>\n",
       "      <th>1</th>\n",
       "      <td>Data Engineer (H/F)</td>\n",
       "      <td>Smile</td>\n",
       "      <td>Casablanca</td>\n",
       "      <td>https://ma.linkedin.com/jobs/view/data-enginee...</td>\n",
       "      <td>airflow, python, snowflake, sql</td>\n",
       "      <td>data engineer</td>\n",
       "    </tr>\n",
       "    <tr>\n",
       "      <th>2</th>\n",
       "      <td>Data Engineer</td>\n",
       "      <td>Artefact</td>\n",
       "      <td>Casablanca</td>\n",
       "      <td>https://ma.linkedin.com/jobs/view/data-enginee...</td>\n",
       "      <td>agile, airflow, aws, azure, beam, bigquery, ci...</td>\n",
       "      <td>data engineer</td>\n",
       "    </tr>\n",
       "    <tr>\n",
       "      <th>3</th>\n",
       "      <td>DATA ENGINEER (H/F)</td>\n",
       "      <td>Groupe INTM</td>\n",
       "      <td>Casablanca</td>\n",
       "      <td>https://ma.linkedin.com/jobs/view/data-enginee...</td>\n",
       "      <td>docker, gcp, kafka, kubernetes, looker, python...</td>\n",
       "      <td>data engineer</td>\n",
       "    </tr>\n",
       "    <tr>\n",
       "      <th>4</th>\n",
       "      <td>Data engineer</td>\n",
       "      <td>SII Group Morocco</td>\n",
       "      <td>Casablanca</td>\n",
       "      <td>https://ma.linkedin.com/jobs/view/data-enginee...</td>\n",
       "      <td>airflow, power bi, spark</td>\n",
       "      <td>data engineer</td>\n",
       "    </tr>\n",
       "  </tbody>\n",
       "</table>\n",
       "</div>"
      ],
      "text/plain": [
       "                               Titre         Entreprise Localisation  \\\n",
       "0  Junior Data Engineer - Casablanca           Artefact   Casablanca   \n",
       "1                Data Engineer (H/F)              Smile   Casablanca   \n",
       "2                      Data Engineer           Artefact   Casablanca   \n",
       "3                DATA ENGINEER (H/F)        Groupe INTM   Casablanca   \n",
       "4                      Data engineer  SII Group Morocco   Casablanca   \n",
       "\n",
       "                                                Lien  \\\n",
       "0  https://ma.linkedin.com/jobs/view/junior-data-...   \n",
       "1  https://ma.linkedin.com/jobs/view/data-enginee...   \n",
       "2  https://ma.linkedin.com/jobs/view/data-enginee...   \n",
       "3  https://ma.linkedin.com/jobs/view/data-enginee...   \n",
       "4  https://ma.linkedin.com/jobs/view/data-enginee...   \n",
       "\n",
       "                                         Compétences    mapped_role  \n",
       "0  agile, airflow, aws, azure, beam, bigquery, ci...  data engineer  \n",
       "1                    airflow, python, snowflake, sql  data engineer  \n",
       "2  agile, airflow, aws, azure, beam, bigquery, ci...  data engineer  \n",
       "3  docker, gcp, kafka, kubernetes, looker, python...  data engineer  \n",
       "4                           airflow, power bi, spark  data engineer  "
      ]
     },
     "execution_count": 1,
     "metadata": {},
     "output_type": "execute_result"
    }
   ],
   "source": [
    "import pandas as pd\n",
    "from cleaner import *\n",
    "\n",
    "df_linkedin = cleaner(\"..\\offres_linkedin.csv\") \n",
    "df_linkedin.head()"
   ]
  },
  {
   "cell_type": "code",
   "execution_count": 16,
   "id": "5c7a7f64",
   "metadata": {},
   "outputs": [
    {
     "data": {
      "text/plain": [
       "(421, 6)"
      ]
     },
     "execution_count": 16,
     "metadata": {},
     "output_type": "execute_result"
    }
   ],
   "source": [
    "df_linkedin.shape"
   ]
  },
  {
   "cell_type": "code",
   "execution_count": 17,
   "id": "58b08d09",
   "metadata": {},
   "outputs": [
    {
     "data": {
      "text/plain": [
       "Titre           307\n",
       "Entreprise      138\n",
       "Localisation     15\n",
       "Lien            421\n",
       "Compétences     239\n",
       "mapped_role       6\n",
       "dtype: int64"
      ]
     },
     "execution_count": 17,
     "metadata": {},
     "output_type": "execute_result"
    }
   ],
   "source": [
    "df_linkedin.nunique()"
   ]
  },
  {
   "cell_type": "code",
   "execution_count": 18,
   "id": "059c6252",
   "metadata": {},
   "outputs": [
    {
     "name": "stdout",
     "output_type": "stream",
     "text": [
      "<class 'pandas.core.frame.DataFrame'>\n",
      "RangeIndex: 421 entries, 0 to 420\n",
      "Data columns (total 6 columns):\n",
      " #   Column        Non-Null Count  Dtype \n",
      "---  ------        --------------  ----- \n",
      " 0   Titre         421 non-null    string\n",
      " 1   Entreprise    421 non-null    string\n",
      " 2   Localisation  421 non-null    string\n",
      " 3   Lien          421 non-null    string\n",
      " 4   Compétences   363 non-null    string\n",
      " 5   mapped_role   421 non-null    object\n",
      "dtypes: object(1), string(5)\n",
      "memory usage: 19.9+ KB\n"
     ]
    }
   ],
   "source": [
    "df_linkedin.info()"
   ]
  },
  {
   "cell_type": "code",
   "execution_count": 19,
   "id": "b1a187e0",
   "metadata": {},
   "outputs": [
    {
     "data": {
      "text/plain": [
       "mapped_role\n",
       "autre                175\n",
       "web developer         67\n",
       "data analyst          59\n",
       "data engineer         54\n",
       "software engineer     37\n",
       "data scientist        29\n",
       "Name: count, dtype: int64"
      ]
     },
     "execution_count": 19,
     "metadata": {},
     "output_type": "execute_result"
    }
   ],
   "source": [
    "df_linkedin['mapped_role'].value_counts()"
   ]
  },
  {
   "cell_type": "markdown",
   "id": "2c09130f",
   "metadata": {},
   "source": [
    "## rekrute.com"
   ]
  },
  {
   "cell_type": "code",
   "execution_count": 24,
   "id": "9f03a3cd",
   "metadata": {},
   "outputs": [
    {
     "data": {
      "text/html": [
       "<div>\n",
       "<style scoped>\n",
       "    .dataframe tbody tr th:only-of-type {\n",
       "        vertical-align: middle;\n",
       "    }\n",
       "\n",
       "    .dataframe tbody tr th {\n",
       "        vertical-align: top;\n",
       "    }\n",
       "\n",
       "    .dataframe thead th {\n",
       "        text-align: right;\n",
       "    }\n",
       "</style>\n",
       "<table border=\"1\" class=\"dataframe\">\n",
       "  <thead>\n",
       "    <tr style=\"text-align: right;\">\n",
       "      <th></th>\n",
       "      <th>Titre</th>\n",
       "      <th>Entreprise</th>\n",
       "      <th>Localisation</th>\n",
       "      <th>Lien</th>\n",
       "      <th>Compétences</th>\n",
       "      <th>mapped_role</th>\n",
       "    </tr>\n",
       "  </thead>\n",
       "  <tbody>\n",
       "    <tr>\n",
       "      <th>0</th>\n",
       "      <td>dataanalystCDD</td>\n",
       "      <td>AXA Services Maroc</td>\n",
       "      <td>Rabat</td>\n",
       "      <td>/offre-emploi-data-analyst-cdd-recrutement-axa...</td>\n",
       "      <td>python, r, sql</td>\n",
       "      <td>data analyst</td>\n",
       "    </tr>\n",
       "    <tr>\n",
       "      <th>1</th>\n",
       "      <td>Stagiaire Businessanalyst(H/F)</td>\n",
       "      <td>Groupe Label'Vie - Carrefour</td>\n",
       "      <td>Casablanca</td>\n",
       "      <td>/offre-emploi-stagiaire-business-analyst-hf-re...</td>\n",
       "      <td>excel</td>\n",
       "      <td>data analyst</td>\n",
       "    </tr>\n",
       "    <tr>\n",
       "      <th>2</th>\n",
       "      <td>Businessanalystdata– Spécialisation Finance</td>\n",
       "      <td>Inetum</td>\n",
       "      <td>Casablanca</td>\n",
       "      <td>/offre-emploi-business-analyst-data-specialisa...</td>\n",
       "      <td>azure, power bi</td>\n",
       "      <td>data analyst</td>\n",
       "    </tr>\n",
       "    <tr>\n",
       "      <th>3</th>\n",
       "      <td>Businessanalyst</td>\n",
       "      <td>Groupe Label'Vie - Carrefour</td>\n",
       "      <td>Casablanca</td>\n",
       "      <td>/offre-emploi-business-analyst-recrutement-gro...</td>\n",
       "      <td>&lt;NA&gt;</td>\n",
       "      <td>data analyst</td>\n",
       "    </tr>\n",
       "    <tr>\n",
       "      <th>4</th>\n",
       "      <td>Stagiairedataanalyst/ Engineer</td>\n",
       "      <td>Orange Business</td>\n",
       "      <td>Rabat</td>\n",
       "      <td>/offre-emploi-stagiaire-data-analyst-engineer-...</td>\n",
       "      <td>deep learning, docker, excel, git, hadoop, ker...</td>\n",
       "      <td>data analyst</td>\n",
       "    </tr>\n",
       "  </tbody>\n",
       "</table>\n",
       "</div>"
      ],
      "text/plain": [
       "                                         Titre                    Entreprise  \\\n",
       "0                               dataanalystCDD            AXA Services Maroc   \n",
       "1               Stagiaire Businessanalyst(H/F)  Groupe Label'Vie - Carrefour   \n",
       "2  Businessanalystdata– Spécialisation Finance                        Inetum   \n",
       "3                              Businessanalyst  Groupe Label'Vie - Carrefour   \n",
       "4               Stagiairedataanalyst/ Engineer               Orange Business   \n",
       "\n",
       "  Localisation                                               Lien  \\\n",
       "0        Rabat  /offre-emploi-data-analyst-cdd-recrutement-axa...   \n",
       "1   Casablanca  /offre-emploi-stagiaire-business-analyst-hf-re...   \n",
       "2   Casablanca  /offre-emploi-business-analyst-data-specialisa...   \n",
       "3   Casablanca  /offre-emploi-business-analyst-recrutement-gro...   \n",
       "4        Rabat  /offre-emploi-stagiaire-data-analyst-engineer-...   \n",
       "\n",
       "                                         Compétences   mapped_role  \n",
       "0                                     python, r, sql  data analyst  \n",
       "1                                              excel  data analyst  \n",
       "2                                    azure, power bi  data analyst  \n",
       "3                                               <NA>  data analyst  \n",
       "4  deep learning, docker, excel, git, hadoop, ker...  data analyst  "
      ]
     },
     "execution_count": 24,
     "metadata": {},
     "output_type": "execute_result"
    }
   ],
   "source": [
    "import pandas as pd\n",
    "from cleaner import *\n",
    "\n",
    "df_rekrute = cleaner(\"..\\offres_rekrute.csv\") \n",
    "df_rekrute.head()"
   ]
  },
  {
   "cell_type": "code",
   "execution_count": 25,
   "id": "5eaf60aa",
   "metadata": {},
   "outputs": [
    {
     "data": {
      "text/plain": [
       "(73, 6)"
      ]
     },
     "execution_count": 25,
     "metadata": {},
     "output_type": "execute_result"
    }
   ],
   "source": [
    "df_rekrute.shape"
   ]
  },
  {
   "cell_type": "code",
   "execution_count": 26,
   "id": "2ebd867c",
   "metadata": {},
   "outputs": [
    {
     "data": {
      "text/plain": [
       "Titre           64\n",
       "Entreprise      20\n",
       "Localisation     6\n",
       "Lien            52\n",
       "Compétences     32\n",
       "mapped_role      5\n",
       "dtype: int64"
      ]
     },
     "execution_count": 26,
     "metadata": {},
     "output_type": "execute_result"
    }
   ],
   "source": [
    "df_rekrute.nunique()"
   ]
  },
  {
   "cell_type": "code",
   "execution_count": 28,
   "id": "e34022b0",
   "metadata": {},
   "outputs": [
    {
     "data": {
      "text/plain": [
       "mapped_role\n",
       "autre                34\n",
       "data analyst         13\n",
       "data scientist       12\n",
       "software engineer     9\n",
       "data engineer         5\n",
       "Name: count, dtype: int64"
      ]
     },
     "execution_count": 28,
     "metadata": {},
     "output_type": "execute_result"
    }
   ],
   "source": [
    "df_rekrute['mapped_role'].value_counts()"
   ]
  },
  {
   "cell_type": "code",
   "execution_count": 29,
   "id": "9890e381",
   "metadata": {},
   "outputs": [
    {
     "name": "stdout",
     "output_type": "stream",
     "text": [
      "<class 'pandas.core.frame.DataFrame'>\n",
      "RangeIndex: 73 entries, 0 to 72\n",
      "Data columns (total 6 columns):\n",
      " #   Column        Non-Null Count  Dtype \n",
      "---  ------        --------------  ----- \n",
      " 0   Titre         73 non-null     string\n",
      " 1   Entreprise    73 non-null     string\n",
      " 2   Localisation  73 non-null     string\n",
      " 3   Lien          73 non-null     string\n",
      " 4   Compétences   55 non-null     string\n",
      " 5   mapped_role   73 non-null     object\n",
      "dtypes: object(1), string(5)\n",
      "memory usage: 3.6+ KB\n"
     ]
    }
   ],
   "source": [
    "df_rekrute.info()"
   ]
  },
  {
   "cell_type": "markdown",
   "id": "ad3f9c31",
   "metadata": {},
   "source": [
    "### concaténer"
   ]
  },
  {
   "cell_type": "code",
   "execution_count": null,
   "id": "d8872efe",
   "metadata": {},
   "outputs": [],
   "source": [
    "df = pd.concat([df_rekrute, df_linkedin], axis=0)"
   ]
  },
  {
   "cell_type": "code",
   "execution_count": null,
   "id": "8a19c1b0",
   "metadata": {},
   "outputs": [],
   "source": [
    "df.shape"
   ]
  },
  {
   "cell_type": "code",
   "execution_count": null,
   "id": "a336c978",
   "metadata": {},
   "outputs": [],
   "source": [
    "df['mapped_role'].value_counts()"
   ]
  },
  {
   "cell_type": "code",
   "execution_count": null,
   "id": "424eb21e",
   "metadata": {},
   "outputs": [],
   "source": [
    "df.head()"
   ]
  },
  {
   "cell_type": "code",
   "execution_count": null,
   "id": "35496c36",
   "metadata": {},
   "outputs": [],
   "source": [
    "import matplotlib.pyplot as plt\n",
    "import numpy as np\n",
    "plt.figure(figsize=(10, 6))\n",
    "\n",
    "i=1\n",
    "for role in df['mapped_role'].unique() :\n",
    "    l = df[df['mapped_role'] == role]['Localisation'].value_counts()\n",
    "    labels = l.index\n",
    "    y = l.values\n",
    "    plt.subplot(2,3,i)\n",
    "    plt.pie(y,labels=labels,autopct='%1.1f%%')\n",
    "    plt.title(role,color='red')\n",
    "    i=i+1\n",
    "\n",
    "plt.show"
   ]
  },
  {
   "cell_type": "code",
   "execution_count": null,
   "id": "f5871b94",
   "metadata": {},
   "outputs": [],
   "source": [
    "from wordcloud import WordCloud\n",
    "\n",
    "# Join all text from the column into one string\n",
    "text = \",\".join(df[df['mapped_role'] == 'data scientist']['Compétences'].astype(str))\n",
    "\n",
    "# Create and display\n",
    "wordcloud = WordCloud(width=800, height=400, background_color='white').generate(text)\n",
    "plt.figure(figsize=(10, 5))\n",
    "plt.imshow(wordcloud, interpolation='bilinear') # With 'bilinear' edges and curves look smooth\n",
    "plt.axis(\"off\")\n",
    "plt.show()\n"
   ]
  }
 ],
 "metadata": {
  "kernelspec": {
   "display_name": "base",
   "language": "python",
   "name": "python3"
  },
  "language_info": {
   "codemirror_mode": {
    "name": "ipython",
    "version": 3
   },
   "file_extension": ".py",
   "mimetype": "text/x-python",
   "name": "python",
   "nbconvert_exporter": "python",
   "pygments_lexer": "ipython3",
   "version": "3.11.7"
  }
 },
 "nbformat": 4,
 "nbformat_minor": 5
}
