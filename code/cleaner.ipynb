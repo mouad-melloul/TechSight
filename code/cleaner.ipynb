{
 "cells": [
  {
   "cell_type": "markdown",
   "id": "8d2797f7",
   "metadata": {},
   "source": [
    "## Linkedin.com"
   ]
  },
  {
   "cell_type": "code",
   "execution_count": 1,
   "id": "b8850a99",
   "metadata": {},
   "outputs": [
    {
     "data": {
      "text/html": [
       "<div>\n",
       "<style scoped>\n",
       "    .dataframe tbody tr th:only-of-type {\n",
       "        vertical-align: middle;\n",
       "    }\n",
       "\n",
       "    .dataframe tbody tr th {\n",
       "        vertical-align: top;\n",
       "    }\n",
       "\n",
       "    .dataframe thead th {\n",
       "        text-align: right;\n",
       "    }\n",
       "</style>\n",
       "<table border=\"1\" class=\"dataframe\">\n",
       "  <thead>\n",
       "    <tr style=\"text-align: right;\">\n",
       "      <th></th>\n",
       "      <th>Titre</th>\n",
       "      <th>Entreprise</th>\n",
       "      <th>Localisation</th>\n",
       "      <th>Lien</th>\n",
       "      <th>Compétences</th>\n",
       "      <th>mapped_role</th>\n",
       "    </tr>\n",
       "  </thead>\n",
       "  <tbody>\n",
       "    <tr>\n",
       "      <th>0</th>\n",
       "      <td>Junior Data Engineer - Casablanca</td>\n",
       "      <td>Artefact</td>\n",
       "      <td>Casablanca</td>\n",
       "      <td>https://ma.linkedin.com/jobs/view/junior-data-...</td>\n",
       "      <td>agile, airflow, aws, azure, beam, bigquery, ci...</td>\n",
       "      <td>data engineer</td>\n",
       "    </tr>\n",
       "    <tr>\n",
       "      <th>1</th>\n",
       "      <td>Data Engineer (H/F)</td>\n",
       "      <td>Smile</td>\n",
       "      <td>Casablanca</td>\n",
       "      <td>https://ma.linkedin.com/jobs/view/data-enginee...</td>\n",
       "      <td>airflow, python, snowflake, sql</td>\n",
       "      <td>data engineer</td>\n",
       "    </tr>\n",
       "    <tr>\n",
       "      <th>2</th>\n",
       "      <td>Data Engineer</td>\n",
       "      <td>Artefact</td>\n",
       "      <td>Casablanca</td>\n",
       "      <td>https://ma.linkedin.com/jobs/view/data-enginee...</td>\n",
       "      <td>agile, airflow, aws, azure, beam, bigquery, ci...</td>\n",
       "      <td>data engineer</td>\n",
       "    </tr>\n",
       "    <tr>\n",
       "      <th>3</th>\n",
       "      <td>DATA ENGINEER (H/F)</td>\n",
       "      <td>Groupe INTM</td>\n",
       "      <td>Casablanca</td>\n",
       "      <td>https://ma.linkedin.com/jobs/view/data-enginee...</td>\n",
       "      <td>docker, gcp, kafka, kubernetes, looker, python...</td>\n",
       "      <td>data engineer</td>\n",
       "    </tr>\n",
       "    <tr>\n",
       "      <th>4</th>\n",
       "      <td>Data engineer</td>\n",
       "      <td>SII Group Morocco</td>\n",
       "      <td>Casablanca</td>\n",
       "      <td>https://ma.linkedin.com/jobs/view/data-enginee...</td>\n",
       "      <td>airflow, power bi, spark</td>\n",
       "      <td>data engineer</td>\n",
       "    </tr>\n",
       "  </tbody>\n",
       "</table>\n",
       "</div>"
      ],
      "text/plain": [
       "                               Titre         Entreprise Localisation  \\\n",
       "0  Junior Data Engineer - Casablanca           Artefact   Casablanca   \n",
       "1                Data Engineer (H/F)              Smile   Casablanca   \n",
       "2                      Data Engineer           Artefact   Casablanca   \n",
       "3                DATA ENGINEER (H/F)        Groupe INTM   Casablanca   \n",
       "4                      Data engineer  SII Group Morocco   Casablanca   \n",
       "\n",
       "                                                Lien  \\\n",
       "0  https://ma.linkedin.com/jobs/view/junior-data-...   \n",
       "1  https://ma.linkedin.com/jobs/view/data-enginee...   \n",
       "2  https://ma.linkedin.com/jobs/view/data-enginee...   \n",
       "3  https://ma.linkedin.com/jobs/view/data-enginee...   \n",
       "4  https://ma.linkedin.com/jobs/view/data-enginee...   \n",
       "\n",
       "                                         Compétences    mapped_role  \n",
       "0  agile, airflow, aws, azure, beam, bigquery, ci...  data engineer  \n",
       "1                    airflow, python, snowflake, sql  data engineer  \n",
       "2  agile, airflow, aws, azure, beam, bigquery, ci...  data engineer  \n",
       "3  docker, gcp, kafka, kubernetes, looker, python...  data engineer  \n",
       "4                           airflow, power bi, spark  data engineer  "
      ]
     },
     "execution_count": 1,
     "metadata": {},
     "output_type": "execute_result"
    }
   ],
   "source": [
    "import pandas as pd\n",
    "from cleaner import *\n",
    "\n",
    "df_linkedin = cleaner(\"..\\offres_linkedin.csv\") \n",
    "df_linkedin.head()"
   ]
  },
  {
   "cell_type": "code",
   "execution_count": 2,
   "id": "5c7a7f64",
   "metadata": {},
   "outputs": [
    {
     "data": {
      "text/plain": [
       "(421, 6)"
      ]
     },
     "execution_count": 2,
     "metadata": {},
     "output_type": "execute_result"
    }
   ],
   "source": [
    "df_linkedin.shape"
   ]
  },
  {
   "cell_type": "code",
   "execution_count": 3,
   "id": "58b08d09",
   "metadata": {},
   "outputs": [
    {
     "data": {
      "text/plain": [
       "Titre           307\n",
       "Entreprise      138\n",
       "Localisation     12\n",
       "Lien            421\n",
       "Compétences     239\n",
       "mapped_role       6\n",
       "dtype: int64"
      ]
     },
     "execution_count": 3,
     "metadata": {},
     "output_type": "execute_result"
    }
   ],
   "source": [
    "df_linkedin.nunique()"
   ]
  },
  {
   "cell_type": "code",
   "execution_count": 4,
   "id": "059c6252",
   "metadata": {},
   "outputs": [
    {
     "name": "stdout",
     "output_type": "stream",
     "text": [
      "<class 'pandas.core.frame.DataFrame'>\n",
      "RangeIndex: 421 entries, 0 to 420\n",
      "Data columns (total 6 columns):\n",
      " #   Column        Non-Null Count  Dtype \n",
      "---  ------        --------------  ----- \n",
      " 0   Titre         421 non-null    string\n",
      " 1   Entreprise    421 non-null    string\n",
      " 2   Localisation  421 non-null    string\n",
      " 3   Lien          421 non-null    string\n",
      " 4   Compétences   363 non-null    string\n",
      " 5   mapped_role   421 non-null    object\n",
      "dtypes: object(1), string(5)\n",
      "memory usage: 19.9+ KB\n"
     ]
    }
   ],
   "source": [
    "df_linkedin.info()"
   ]
  },
  {
   "cell_type": "code",
   "execution_count": 5,
   "id": "b1a187e0",
   "metadata": {},
   "outputs": [
    {
     "data": {
      "text/plain": [
       "mapped_role\n",
       "autre                175\n",
       "web developer         67\n",
       "data analyst          59\n",
       "data engineer         54\n",
       "software engineer     37\n",
       "data scientist        29\n",
       "Name: count, dtype: int64"
      ]
     },
     "execution_count": 5,
     "metadata": {},
     "output_type": "execute_result"
    }
   ],
   "source": [
    "df_linkedin['mapped_role'].value_counts()"
   ]
  },
  {
   "cell_type": "markdown",
   "id": "2c09130f",
   "metadata": {},
   "source": [
    "## rekrute.com"
   ]
  },
  {
   "cell_type": "code",
   "execution_count": 6,
   "id": "9f03a3cd",
   "metadata": {},
   "outputs": [
    {
     "data": {
      "text/html": [
       "<div>\n",
       "<style scoped>\n",
       "    .dataframe tbody tr th:only-of-type {\n",
       "        vertical-align: middle;\n",
       "    }\n",
       "\n",
       "    .dataframe tbody tr th {\n",
       "        vertical-align: top;\n",
       "    }\n",
       "\n",
       "    .dataframe thead th {\n",
       "        text-align: right;\n",
       "    }\n",
       "</style>\n",
       "<table border=\"1\" class=\"dataframe\">\n",
       "  <thead>\n",
       "    <tr style=\"text-align: right;\">\n",
       "      <th></th>\n",
       "      <th>Titre</th>\n",
       "      <th>Entreprise</th>\n",
       "      <th>Localisation</th>\n",
       "      <th>Lien</th>\n",
       "      <th>Compétences</th>\n",
       "      <th>mapped_role</th>\n",
       "    </tr>\n",
       "  </thead>\n",
       "  <tbody>\n",
       "    <tr>\n",
       "      <th>0</th>\n",
       "      <td>dataanalystCDD</td>\n",
       "      <td>AXA Services Maroc</td>\n",
       "      <td>Rabat</td>\n",
       "      <td>https://www.rekrute.com/offre-emploi-data-anal...</td>\n",
       "      <td>python, r, sql</td>\n",
       "      <td>data analyst</td>\n",
       "    </tr>\n",
       "    <tr>\n",
       "      <th>1</th>\n",
       "      <td>Stagiaire Businessanalyst(H/F)</td>\n",
       "      <td>Groupe Label'Vie - Carrefour</td>\n",
       "      <td>Casablanca</td>\n",
       "      <td>https://www.rekrute.com/offre-emploi-stagiaire...</td>\n",
       "      <td>excel</td>\n",
       "      <td>data analyst</td>\n",
       "    </tr>\n",
       "    <tr>\n",
       "      <th>2</th>\n",
       "      <td>Businessanalystdata– Spécialisation Finance</td>\n",
       "      <td>Inetum</td>\n",
       "      <td>Casablanca</td>\n",
       "      <td>https://www.rekrute.com/offre-emploi-business-...</td>\n",
       "      <td>azure, power bi</td>\n",
       "      <td>data analyst</td>\n",
       "    </tr>\n",
       "    <tr>\n",
       "      <th>3</th>\n",
       "      <td>Businessanalyst</td>\n",
       "      <td>Groupe Label'Vie - Carrefour</td>\n",
       "      <td>Casablanca</td>\n",
       "      <td>https://www.rekrute.com/offre-emploi-business-...</td>\n",
       "      <td>&lt;NA&gt;</td>\n",
       "      <td>data analyst</td>\n",
       "    </tr>\n",
       "    <tr>\n",
       "      <th>4</th>\n",
       "      <td>Stagiairedataanalyst/ Engineer</td>\n",
       "      <td>Orange Business</td>\n",
       "      <td>Rabat</td>\n",
       "      <td>https://www.rekrute.com/offre-emploi-stagiaire...</td>\n",
       "      <td>deep learning, docker, excel, git, hadoop, ker...</td>\n",
       "      <td>data analyst</td>\n",
       "    </tr>\n",
       "  </tbody>\n",
       "</table>\n",
       "</div>"
      ],
      "text/plain": [
       "                                         Titre                    Entreprise  \\\n",
       "0                               dataanalystCDD            AXA Services Maroc   \n",
       "1               Stagiaire Businessanalyst(H/F)  Groupe Label'Vie - Carrefour   \n",
       "2  Businessanalystdata– Spécialisation Finance                        Inetum   \n",
       "3                              Businessanalyst  Groupe Label'Vie - Carrefour   \n",
       "4               Stagiairedataanalyst/ Engineer               Orange Business   \n",
       "\n",
       "  Localisation                                               Lien  \\\n",
       "0        Rabat  https://www.rekrute.com/offre-emploi-data-anal...   \n",
       "1   Casablanca  https://www.rekrute.com/offre-emploi-stagiaire...   \n",
       "2   Casablanca  https://www.rekrute.com/offre-emploi-business-...   \n",
       "3   Casablanca  https://www.rekrute.com/offre-emploi-business-...   \n",
       "4        Rabat  https://www.rekrute.com/offre-emploi-stagiaire...   \n",
       "\n",
       "                                         Compétences   mapped_role  \n",
       "0                                     python, r, sql  data analyst  \n",
       "1                                              excel  data analyst  \n",
       "2                                    azure, power bi  data analyst  \n",
       "3                                               <NA>  data analyst  \n",
       "4  deep learning, docker, excel, git, hadoop, ker...  data analyst  "
      ]
     },
     "execution_count": 6,
     "metadata": {},
     "output_type": "execute_result"
    }
   ],
   "source": [
    "import pandas as pd\n",
    "from cleaner import *\n",
    "\n",
    "df_rekrute = cleaner(\"..\\offres_rekrute.csv\") \n",
    "df_rekrute.head()"
   ]
  },
  {
   "cell_type": "code",
   "execution_count": 7,
   "id": "5eaf60aa",
   "metadata": {},
   "outputs": [
    {
     "data": {
      "text/plain": [
       "(71, 6)"
      ]
     },
     "execution_count": 7,
     "metadata": {},
     "output_type": "execute_result"
    }
   ],
   "source": [
    "df_rekrute.shape"
   ]
  },
  {
   "cell_type": "code",
   "execution_count": 8,
   "id": "2ebd867c",
   "metadata": {},
   "outputs": [
    {
     "data": {
      "text/plain": [
       "Titre           63\n",
       "Entreprise      20\n",
       "Localisation     6\n",
       "Lien            51\n",
       "Compétences     30\n",
       "mapped_role      5\n",
       "dtype: int64"
      ]
     },
     "execution_count": 8,
     "metadata": {},
     "output_type": "execute_result"
    }
   ],
   "source": [
    "df_rekrute.nunique()"
   ]
  },
  {
   "cell_type": "code",
   "execution_count": 9,
   "id": "e34022b0",
   "metadata": {},
   "outputs": [
    {
     "data": {
      "text/plain": [
       "mapped_role\n",
       "autre                33\n",
       "data scientist       12\n",
       "data analyst         11\n",
       "software engineer    10\n",
       "data engineer         5\n",
       "Name: count, dtype: int64"
      ]
     },
     "execution_count": 9,
     "metadata": {},
     "output_type": "execute_result"
    }
   ],
   "source": [
    "df_rekrute['mapped_role'].value_counts()"
   ]
  },
  {
   "cell_type": "code",
   "execution_count": 10,
   "id": "9890e381",
   "metadata": {},
   "outputs": [
    {
     "name": "stdout",
     "output_type": "stream",
     "text": [
      "<class 'pandas.core.frame.DataFrame'>\n",
      "RangeIndex: 71 entries, 0 to 70\n",
      "Data columns (total 6 columns):\n",
      " #   Column        Non-Null Count  Dtype \n",
      "---  ------        --------------  ----- \n",
      " 0   Titre         71 non-null     string\n",
      " 1   Entreprise    71 non-null     string\n",
      " 2   Localisation  71 non-null     string\n",
      " 3   Lien          71 non-null     string\n",
      " 4   Compétences   52 non-null     string\n",
      " 5   mapped_role   71 non-null     object\n",
      "dtypes: object(1), string(5)\n",
      "memory usage: 3.5+ KB\n"
     ]
    }
   ],
   "source": [
    "df_rekrute.info()"
   ]
  },
  {
   "cell_type": "markdown",
   "id": "ad3f9c31",
   "metadata": {},
   "source": [
    "### concaténer"
   ]
  },
  {
   "cell_type": "code",
   "execution_count": 11,
   "id": "d8872efe",
   "metadata": {},
   "outputs": [],
   "source": [
    "df = pd.concat([df_rekrute, df_linkedin], axis=0)"
   ]
  },
  {
   "cell_type": "code",
   "execution_count": 12,
   "id": "8a19c1b0",
   "metadata": {},
   "outputs": [
    {
     "data": {
      "text/plain": [
       "(492, 6)"
      ]
     },
     "execution_count": 12,
     "metadata": {},
     "output_type": "execute_result"
    }
   ],
   "source": [
    "df.shape"
   ]
  },
  {
   "cell_type": "code",
   "execution_count": 13,
   "id": "a336c978",
   "metadata": {},
   "outputs": [
    {
     "data": {
      "text/plain": [
       "mapped_role\n",
       "autre                208\n",
       "data analyst          70\n",
       "web developer         67\n",
       "data engineer         59\n",
       "software engineer     47\n",
       "data scientist        41\n",
       "Name: count, dtype: int64"
      ]
     },
     "execution_count": 13,
     "metadata": {},
     "output_type": "execute_result"
    }
   ],
   "source": [
    "df['mapped_role'].value_counts()"
   ]
  },
  {
   "cell_type": "code",
   "execution_count": 14,
   "id": "bc035ce9",
   "metadata": {},
   "outputs": [],
   "source": [
    "df.drop(df[df[\"mapped_role\"]==\"autre\"].index, axis=0, inplace=True)"
   ]
  },
  {
   "cell_type": "code",
   "execution_count": 15,
   "id": "88f7f3cb",
   "metadata": {},
   "outputs": [
    {
     "data": {
      "text/plain": [
       "(252, 6)"
      ]
     },
     "execution_count": 15,
     "metadata": {},
     "output_type": "execute_result"
    }
   ],
   "source": [
    "df.shape"
   ]
  },
  {
   "cell_type": "code",
   "execution_count": 16,
   "id": "a73cdf97",
   "metadata": {},
   "outputs": [
    {
     "data": {
      "text/plain": [
       "2"
      ]
     },
     "execution_count": 16,
     "metadata": {},
     "output_type": "execute_result"
    }
   ],
   "source": [
    "df.duplicated().sum()"
   ]
  },
  {
   "cell_type": "code",
   "execution_count": 17,
   "id": "02662a23",
   "metadata": {},
   "outputs": [],
   "source": [
    "df.drop_duplicates(inplace=True)"
   ]
  },
  {
   "cell_type": "code",
   "execution_count": 18,
   "id": "fc08859c",
   "metadata": {},
   "outputs": [],
   "source": [
    "df.drop_duplicates(subset=[\"Titre\", \"Entreprise\", \"Localisation\"], inplace=True)"
   ]
  },
  {
   "cell_type": "code",
   "execution_count": 19,
   "id": "bd2d65c8",
   "metadata": {},
   "outputs": [
    {
     "data": {
      "text/plain": [
       "(205, 6)"
      ]
     },
     "execution_count": 19,
     "metadata": {},
     "output_type": "execute_result"
    }
   ],
   "source": [
    "df.shape"
   ]
  },
  {
   "cell_type": "code",
   "execution_count": 22,
   "id": "67cd8b07",
   "metadata": {},
   "outputs": [],
   "source": [
    "df.to_csv(\"../data/dataset_final.csv\")"
   ]
  }
 ],
 "metadata": {
  "kernelspec": {
   "display_name": "base",
   "language": "python",
   "name": "python3"
  },
  "language_info": {
   "codemirror_mode": {
    "name": "ipython",
    "version": 3
   },
   "file_extension": ".py",
   "mimetype": "text/x-python",
   "name": "python",
   "nbconvert_exporter": "python",
   "pygments_lexer": "ipython3",
   "version": "3.11.7"
  }
 },
 "nbformat": 4,
 "nbformat_minor": 5
}
